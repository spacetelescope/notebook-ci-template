{
 "cells": [
  {
   "cell_type": "markdown",
   "metadata": {},
   "source": [
    "<a id=\"top\"></a>\n",
    "# Tutorial Title\n",
    "***\n",
    "## Learning Goals\n",
    "\n",
    "Write three to five learning goals. We highly recommend using [Bloom's taxonomy](https://tips.uark.edu/using-blooms-taxonomy/) as a guide. Bloom’s Taxonomy is a classification of the different objectives and skills that educators set for their audience. The taxonomy is divided into six hierarchical categories, making it easy to communicate the goals of your Notebook and classify the expected difficulty level.\n",
    "\n",
    "(Delete the above text after you've added your goals)\n",
    "\n",
    "```\n",
    "By the end of this tutorial, you will:\n",
    "\n",
    "- Understand how to query the MAST Archive for TESS Observations.\n",
    "- Create your own light curve using TESS data.\n",
    "```"
   ]
  },
  {
   "cell_type": "markdown",
   "metadata": {
    "slideshow": {
     "slide_type": "slide"
    }
   },
   "source": [
    "## Table of Contents\n",
    "* [Introduction](#Introduction)\n",
    "* [Main Content (Rename)](#Main-Content-(Rename))\n",
    "    * [Loading Data (Rename)](#Loading-Data-(Rename,-e.g.-Querying-for-TESS-Data))\n",
    "    * [File and Data Information](#File-and-Data-Information)\n",
    "    * [Visualization, where relevant](#Visualization,-where-relevant)\n",
    "* [Exercises](#Exercises)\n",
    "* [Additional Resources](#Additional-Resources)\n",
    "\n",
    "## Introduction\n",
    "Write a short introduction explaining the purpose of the tutorial. Define any terms or common acronyms that your audience may not know. If you're using some kind of domain-specific astronomical symbol or unusual mathematical concept, make sure you define it (for example, in its mathematical form) and link to any definitions (from literature, Wikipedia, etc.).\n",
    "\n",
    "If there are background materials or resources that may be useful to the reader, link to it here. If your tutorial is a continuation from another tutorial, or there are other tutorials that would be useful for the reader to read before or after your tutorial, mention that here as well."
   ]
  },
  {
   "cell_type": "markdown",
   "metadata": {
    "slideshow": {
     "slide_type": "slide"
    }
   },
   "source": [
    "## Imports\n",
    "Describe the main packages we're using here and their use-case for this notebook. If there's something unusual, explain what the library is, and why we need it.\n",
    "\n",
    "- *numpy* to handle array functions\n",
    "- *astropy.io fits* for accessing FITS files\n",
    "- *astropy.table Table* for creating tidy tables of the data\n",
    "- *matplotlib.pyplot* for plotting data"
   ]
  },
  {
   "cell_type": "code",
   "execution_count": null,
   "metadata": {
    "slideshow": {
     "slide_type": "fragment"
    }
   },
   "outputs": [],
   "source": [
    "%matplotlib inline\n",
    "\n",
    "import matplotlib.pyplot as plt\n",
    "import numpy as np\n",
    "\n",
    "from astropy.io import fits\n",
    "from astropy.table import Table\n",
    "from astroquery.mast import Mast\n",
    "from astroquery.mast import Observations"
   ]
  },
  {
   "cell_type": "markdown",
   "metadata": {},
   "source": [
    "***"
   ]
  },
  {
   "cell_type": "markdown",
   "metadata": {},
   "source": [
    "## Main Content (Rename)\n",
    "\n",
    "Where reasonable, \"Main Content\" should be renamed with the overall objective of the Notebook.\n",
    "\n",
    "The main content of your tutorial should be subdivided into sections with useful, **descriptive headings** that make sense based on the content. Break sections up with standard Markdown syntax headings:\n",
    "\n",
    "```\n",
    "## Section 1\n",
    "\n",
    "Intro to Section 1\n",
    "\n",
    "### Subsection 1a\n",
    "\n",
    "More detailed info about Section 1\n",
    "\n",
    "## Section 2\n",
    "\n",
    "A complete thought that's as important as Section 1 but doesn't need subsections.\n",
    "\n",
    "```\n",
    "\n",
    "Code should have comments. Text in cells is necessary, but not sufficient, to explain code."
   ]
  },
  {
   "cell_type": "markdown",
   "metadata": {
    "slideshow": {
     "slide_type": "slide"
    }
   },
   "source": [
    "## Loading Data (Rename, e.g. Querying for TESS Data)\n",
    "\n",
    "Many tutorials include a section on loading or downloading data. Try avoid generic or vague headings like “Loading Data” and instead use descriptive headings pertinent to the content of the tutorial, data downloaded, or particular files (e.g. \"Accessing light curves\" or \"Querying MAST for Kepler Observations\"). \n",
    "\n",
    "If the user needs to download data to run the tutorial properly, where possible, use [astroquery](https://astroquery.readthedocs.io/en/latest/) (or similar) to retrieve files. If this is not possible, see the [data guide](https://github.com/spacetelescope/style-guides/blob/master/guides/where-to-put-your-data.md) for other options.\n",
    "\n",
    "Let's do an example query for MAST data:"
   ]
  },
  {
   "cell_type": "markdown",
   "metadata": {
    "slideshow": {
     "slide_type": "slide"
    }
   },
   "source": [
    "For example, if we wanted to query for data from MAST for TESS we might do something like:"
   ]
  },
  {
   "cell_type": "code",
   "execution_count": null,
   "metadata": {
    "slideshow": {
     "slide_type": "fragment"
    }
   },
   "outputs": [],
   "source": [
    "# Query for a reproducible TESS Observation\n",
    "TESSObs = Observations.query_criteria(target_name='8262242', t_exptime=[120,120])\n",
    "\n",
    "# Get the list of corresponding products\n",
    "TESSProds = Observations.get_product_list(TESSObs[0])\n",
    "\n",
    "# Filter for the products we want\n",
    "yourProd = Observations.filter_products(TESSProds,description='Light curves')"
   ]
  },
  {
   "cell_type": "markdown",
   "metadata": {},
   "source": [
    "### File and Data Information"
   ]
  },
  {
   "cell_type": "markdown",
   "metadata": {},
   "source": [
    "Where possible (if the code supports it), use code examples that visually display the data in the tutorial. For example, if you are showing an object such as an Astropy Table, display a preview:"
   ]
  },
  {
   "cell_type": "code",
   "execution_count": null,
   "metadata": {},
   "outputs": [],
   "source": [
    "# Display the first five products in the results table\n",
    "# (in this case, there is only one product to display)\n",
    "yourProd[0:5]"
   ]
  },
  {
   "cell_type": "markdown",
   "metadata": {},
   "source": [
    "### Downloads to a Local Machine\n",
    "\n",
    "Be cognizant of file size when writing a tutorial; users should not need to wait for more than ~60 seconds for something to download. A 10MB file is likely appropriate. A 10 GB file is definitely not."
   ]
  },
  {
   "cell_type": "code",
   "execution_count": null,
   "metadata": {},
   "outputs": [],
   "source": [
    "# Download the products to our local directory\n",
    "output = Observations.download_products(yourProd)\n",
    "output"
   ]
  },
  {
   "cell_type": "markdown",
   "metadata": {},
   "source": [
    "Explain pertinent details about the file you've just downloaded. For example, if working with TESS light curves, explain what's in the different file extensions:\n",
    "\n",
    "```\n",
    "- No. 0 (Primary): This HDU contains metadata related to the entire file.\n",
    "- No. 1 (Light curve): This HDU contains a binary table that holds data like\n",
    "  flux measurements and times. We will extract information from here when we\n",
    "  define the parameters for the light curve plot.\n",
    "- No. 2 (Aperture): This HDU contains the image extension with data collected\n",
    "  from the aperture. We will also use this to display a bitmask plot that\n",
    "  visually represents the optimal aperture used to create the SAP_FLUX column in\n",
    "  HDU1.\n",
    "\n",
    "```"
   ]
  },
  {
   "cell_type": "code",
   "execution_count": null,
   "metadata": {},
   "outputs": [],
   "source": [
    "# Get the path to the file\n",
    "file = output['Local Path'][0]\n",
    "\n",
    "# Print out some information about our file\n",
    "print('The HDU list of our output file:\\n')\n",
    "print(fits.info(file))\n",
    "\n",
    "# Load in the flux and time data\n",
    "time = fits.getdata(file, 1)['time']\n",
    "flux = fits.getdata(file, 1)['pdcsap_flux']"
   ]
  },
  {
   "cell_type": "markdown",
   "metadata": {
    "tags": []
   },
   "source": [
    "## Visualization, where relevant\n",
    "\n",
    "When presenting any visuals and/or plots from the data, make sure you are using color palettes that are color-blind friendly and using language that keeps accessibility in mind. The most common form of color vision deficiency involves differentiating between red and green, so avoiding colormaps with both red and green (e.g. `viridis`) will avoid many problems in general. \n",
    "\n",
    "Use descriptive keywords not pertaining to the color of the object you are referring to. It is also good practice to make your plots and images large enough to ensure that important details are not hard to see. On the same note, make sure that tick labels, legends, and other plot notations are not too small, and make sure they are descriptive enough that the user can understand what is being represented by the data. "
   ]
  },
  {
   "cell_type": "markdown",
   "metadata": {
    "jp-MarkdownHeadingCollapsed": true,
    "tags": []
   },
   "source": [
    "Let's plot the light curve from the file we just downloaded."
   ]
  },
  {
   "cell_type": "code",
   "execution_count": null,
   "metadata": {
    "scrolled": true,
    "tags": []
   },
   "outputs": [],
   "source": [
    "# Create the figure\n",
    "fig, ax = plt.subplots(1, figsize=(5,5))\n",
    "# Show the image data\n",
    "ax.plot(time, flux)\n",
    "\n",
    "# Set x/y labels\n",
    "ax.set_xlabel(\"Date (BTJD)\")\n",
    "ax.set_ylabel(\"Flux (e-/s)\")\n",
    "\n",
    "# Set the title for the image, make the font large\n",
    "ax.set_title(\"TIC 8262242 light curve\", fontsize=25)"
   ]
  },
  {
   "cell_type": "markdown",
   "metadata": {},
   "source": [
    "## Exercises (optional)\n",
    "\n",
    "Exercises are optional, but encouraged. Exercises are often **most effective when woven into the main content** of your tutorial, but they can appear in their own section towards the end. Final exercises might be more challenging, similar to homework problems. They can be minimal or take as long as 30 minutes to an hour to complete. \n",
    "\n",
    "It may be helpful to again reference [Bloom's taxonomy](https://tips.uark.edu/using-blooms-taxonomy/) as you're writing the exercises. This may help you to classify the level of difficulty and design exercises appropriate to the learning goals.\n",
    "\n",
    "If you do have one or more exercises in your tutorial, be sure to leave a blank code cell underneath each to show the reader that they're meant to try out their new skill right there. You may also want to include a \"solutions\" notebook next to your main notebook for the reader to check their work after they have finished their attempt."
   ]
  },
  {
   "cell_type": "markdown",
   "metadata": {},
   "source": [
    "## Additional Resources\n",
    "\n",
    "This section is optional. Try to weave resource links into the main content of your tutorial so that they are falling in line with the context of your writing. For resources that do not fit cleanly into your narrative, you may include an additional resources section at the end of your tutorial. Usually a list of links using Markdown bullet list plus link format is appropriate:\n",
    "\n",
    "- [MAST API](https://mast.stsci.edu/api/v0/index.html)\n",
    "- [TESS Archive Page (MAST)](https://archive.stsci.edu/tess/)\n",
    "- [TESS Archive Manual](https://outerspace.stsci.edu/display/TESS/TESS+Archive+Manual)\n",
    "- [Exo.MAST website](https://exo.mast.stsci.edu/)"
   ]
  },
  {
   "cell_type": "markdown",
   "metadata": {},
   "source": [
    "## Citations\n",
    "Provide your reader with guidelines on how to cite open source software and other resources in their own published work.\n",
    "\n",
    "```\n",
    "If you use `astropy` or `lightkurve` for published research, please cite the\n",
    "authors. Follow these links for more information about citing `astropy` and\n",
    "`lightkurve`:\n",
    "\n",
    "* [Citing `astropy`](https://www.astropy.org/acknowledging.html)\n",
    "* [Citing `lightkurve`](http://docs.lightkurve.org/about/citing.html)\n",
    "\n",
    "```"
   ]
  },
  {
   "cell_type": "markdown",
   "metadata": {
    "slideshow": {
     "slide_type": "slide"
    }
   },
   "source": [
    "## About this Notebook\n",
    "Let the world know who the author of this great tutorial is! If possible and appropriate, include a contact email address for users who might need support (for example, `archive@stsci.edu`). You should also include keywords and a last updated date in this section.\n",
    "\n",
    "**Author(s):** Jessie Blogs, Jenny V. Medina, Thomas Dutkiewicz <br>\n",
    "**Keyword(s):** Tutorial, lightkurve, TESS, introduction, template <br>\n",
    "**First published:** Sep 2020 <br>\n",
    "**Last updated:** Aug 2022 <br>\n",
    "\n",
    "***\n",
    "[Top of Page](#top)\n",
    "<img style=\"float: right;\" src=\"https://raw.githubusercontent.com/spacetelescope/style-guides/main/guides/images/stsci-logo.png\" alt=\"Space Telescope Logo\" width=\"200px\"/> "
   ]
  }
 ],
 "metadata": {
  "kernelspec": {
   "display_name": "Python 3 (ipykernel)",
   "language": "python",
   "name": "python3"
  },
  "language_info": {
   "codemirror_mode": {
    "name": "ipython",
    "version": 3
   },
   "file_extension": ".py",
   "mimetype": "text/x-python",
   "name": "python",
   "nbconvert_exporter": "python",
   "pygments_lexer": "ipython3",
   "version": "3.11.5"
  }
 },
 "nbformat": 4,
 "nbformat_minor": 4
}
